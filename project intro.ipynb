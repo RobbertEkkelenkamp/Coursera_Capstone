{
 "cells": [
  {
   "cell_type": "markdown",
   "metadata": {
    "collapsed": true
   },
   "source": [
    "## Introduction\n",
    "\n",
    "\n",
    "New York City is one of the most populous cities in the United States and has emerged as one of the world's financial capitals. Aside from finance, the city is also a major tourist centre in the USA. The city is very diverse and is home to many different kinds of people. Because the city serves so many different sectors, it can be expected that the residential profiles of the neighbourhoods differ significantly from each other. The residential profile reflects the kind of people that live in the neighbourhood and can be an interesting variable for businesses, prospective residents and tourists.\n",
    "\n",
    "## Residential profile of the neighbourhood\n",
    "\n",
    "\n",
    "Different sectors in NYC are often reflected in the residential profile of a city. You can expect that Hotels will be mostly located near the big tourist sights and will be mostly located on Manhattan, while hostels will also be located close to tourist sights, but a bit further away to keep the prices low. Similarly, local residents are not interested in the tourist attraction, and as a result will live in neighbourhoods that are not close to tourist attractions. Having a spatial overview of the kinds of residential buildings and entities will provide a good idea about the kind of people that live in each neighbourhood. The Foursquare API offers an overview of all kinds of residential buildings including appartments, hotels, student resident halls and many others. The proportion of each residential type per neighbourhood can be used to cluster the neighbourhoods as a representation of different sectors.\n",
    "\n",
    "## Stakeholders\n",
    "\n",
    "\n",
    "The stakeholders for this project are essentially all people that are coming to NYC and are interested in the make up of different neighbourhoods. Imagine you're a tourist coming to NYC and you're looking to find a neighbourhood to stay in, you would want to know where most of the hotels are as they tend to be near the major tourist sites. At the same time, someone that is looking to move to NYC for work isn't interested in the tourist sites, but wants to find a place that's more suited for the average resident. Business that want to cater to a specific type of person would be interested in knowing the profile of each neighbourhood to make an informed deciscion on where to place their business \n",
    "\n",
    "## Data\n",
    "\n",
    "To find the residential profile of each neighbourhood, I will use the following sources of information:\n",
    "\n",
    "NYC has a total of 5 boroughs and 306 neighborhoods. In order to cluster the neighborhoods and explore them, we will need a dataset that contains the 5 boroughs and the neighborhoods that exist in each borough as well as the the latitude and logitude coordinates of each neighborhood. This dataset exists for free on the web and can be found at:  https://geo.nyu.edu/catalog/nyu_2451_34572\n",
    "\n",
    "The residential data can be sourced from the Foursquare API. Example codes for residential types are 4e67e38e036454776db1fb3a, 5032891291d4c4b30a586d68, 4bf58dd8d48988d103941735, 4f2a210c4b9023bd5841ed28, 4d954b06a243a5684965b473, 52f2ab2ebcbc57f1066b8b55 and 4bf58dd8d48988d1d5941735, which range from Hotels to trailer parks.\n"
   ]
  },
  {
   "cell_type": "code",
   "execution_count": null,
   "metadata": {},
   "outputs": [],
   "source": []
  }
 ],
 "metadata": {
  "kernelspec": {
   "display_name": "Python 3.6",
   "language": "python",
   "name": "python3"
  },
  "language_info": {
   "codemirror_mode": {
    "name": "ipython",
    "version": 3
   },
   "file_extension": ".py",
   "mimetype": "text/x-python",
   "name": "python",
   "nbconvert_exporter": "python",
   "pygments_lexer": "ipython3",
   "version": "3.6.8"
  }
 },
 "nbformat": 4,
 "nbformat_minor": 1
}
